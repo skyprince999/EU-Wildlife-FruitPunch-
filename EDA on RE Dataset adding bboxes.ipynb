{
 "cells": [
  {
   "cell_type": "code",
   "execution_count": 9,
   "metadata": {},
   "outputs": [],
   "source": [
    "import pandas as pd\n",
    "import os\n",
    "\n",
    "import tqdm \n",
    "\n",
    "filepath = \"E:\\\\FruitPunch_files\\\\images.csv\""
   ]
  },
  {
   "cell_type": "code",
   "execution_count": 10,
   "metadata": {},
   "outputs": [
    {
     "name": "stderr",
     "output_type": "stream",
     "text": [
      "C:\\Users\\ADMIN\\AppData\\Local\\Temp\\ipykernel_5304\\1419358776.py:1: DtypeWarning: Columns (17,18,19) have mixed types. Specify dtype option on import or set low_memory=False.\n",
      "  images = pd.read_csv(filepath)\n"
     ]
    },
    {
     "name": "stdout",
     "output_type": "stream",
     "text": [
      "(378564, 27)\n",
      "Index(['project_id', 'deployment_id', 'image_id', 'filename', 'location',\n",
      "       'is_blank', 'identified_by', 'wi_taxon_id', 'class', 'order', 'family',\n",
      "       'genus', 'species', 'common_name', 'uncertainty', 'timestamp',\n",
      "       'number_of_objects', 'age', 'sex', 'animal_recognizable',\n",
      "       'individual_id', 'individual_animal_notes', 'behavior', 'highlighted',\n",
      "       'markings', 'cv_confidence', 'license'],\n",
      "      dtype='object')\n"
     ]
    },
    {
     "data": {
      "text/html": [
       "<div>\n",
       "<style scoped>\n",
       "    .dataframe tbody tr th:only-of-type {\n",
       "        vertical-align: middle;\n",
       "    }\n",
       "\n",
       "    .dataframe tbody tr th {\n",
       "        vertical-align: top;\n",
       "    }\n",
       "\n",
       "    .dataframe thead th {\n",
       "        text-align: right;\n",
       "    }\n",
       "</style>\n",
       "<table border=\"1\" class=\"dataframe\">\n",
       "  <thead>\n",
       "    <tr style=\"text-align: right;\">\n",
       "      <th></th>\n",
       "      <th>project_id</th>\n",
       "      <th>deployment_id</th>\n",
       "      <th>image_id</th>\n",
       "      <th>filename</th>\n",
       "      <th>location</th>\n",
       "      <th>is_blank</th>\n",
       "      <th>identified_by</th>\n",
       "      <th>wi_taxon_id</th>\n",
       "      <th>class</th>\n",
       "      <th>order</th>\n",
       "      <th>...</th>\n",
       "      <th>age</th>\n",
       "      <th>sex</th>\n",
       "      <th>animal_recognizable</th>\n",
       "      <th>individual_id</th>\n",
       "      <th>individual_animal_notes</th>\n",
       "      <th>behavior</th>\n",
       "      <th>highlighted</th>\n",
       "      <th>markings</th>\n",
       "      <th>cv_confidence</th>\n",
       "      <th>license</th>\n",
       "    </tr>\n",
       "  </thead>\n",
       "  <tbody>\n",
       "    <tr>\n",
       "      <th>0</th>\n",
       "      <td>2003918</td>\n",
       "      <td>SK11</td>\n",
       "      <td>32d71a06-aa95-45ef-b27b-903617e82016</td>\n",
       "      <td>IMG_2198.JPG</td>\n",
       "      <td>gs://437283855702_2003918_344_rhodope_mountain...</td>\n",
       "      <td>0</td>\n",
       "      <td>Stefan Avramov</td>\n",
       "      <td>75e7ac24-a298-4a2f-bc12-9a153b08b7e6</td>\n",
       "      <td>Mammalia</td>\n",
       "      <td>Cetartiodactyla</td>\n",
       "      <td>...</td>\n",
       "      <td>adult</td>\n",
       "      <td>female</td>\n",
       "      <td>NaN</td>\n",
       "      <td>NaN</td>\n",
       "      <td>NaN</td>\n",
       "      <td>NaN</td>\n",
       "      <td>False</td>\n",
       "      <td>NaN</td>\n",
       "      <td>NaN</td>\n",
       "      <td>CC-BY-NC</td>\n",
       "    </tr>\n",
       "    <tr>\n",
       "      <th>1</th>\n",
       "      <td>2003918</td>\n",
       "      <td>SK11</td>\n",
       "      <td>c9cd9bc3-f932-45e7-8697-d1596c45ad4f</td>\n",
       "      <td>IMG_2199.JPG</td>\n",
       "      <td>gs://437283855702_2003918_344_rhodope_mountain...</td>\n",
       "      <td>0</td>\n",
       "      <td>Stefan Avramov</td>\n",
       "      <td>75e7ac24-a298-4a2f-bc12-9a153b08b7e6</td>\n",
       "      <td>Mammalia</td>\n",
       "      <td>Cetartiodactyla</td>\n",
       "      <td>...</td>\n",
       "      <td>adult</td>\n",
       "      <td>female</td>\n",
       "      <td>NaN</td>\n",
       "      <td>NaN</td>\n",
       "      <td>NaN</td>\n",
       "      <td>NaN</td>\n",
       "      <td>False</td>\n",
       "      <td>NaN</td>\n",
       "      <td>NaN</td>\n",
       "      <td>CC-BY-NC</td>\n",
       "    </tr>\n",
       "    <tr>\n",
       "      <th>2</th>\n",
       "      <td>2003918</td>\n",
       "      <td>SK11</td>\n",
       "      <td>4568a440-2ec7-4887-849d-6220e59429b9</td>\n",
       "      <td>IMG_2200.JPG</td>\n",
       "      <td>gs://437283855702_2003918_344_rhodope_mountain...</td>\n",
       "      <td>0</td>\n",
       "      <td>Stefan Avramov</td>\n",
       "      <td>75e7ac24-a298-4a2f-bc12-9a153b08b7e6</td>\n",
       "      <td>Mammalia</td>\n",
       "      <td>Cetartiodactyla</td>\n",
       "      <td>...</td>\n",
       "      <td>adult</td>\n",
       "      <td>female</td>\n",
       "      <td>NaN</td>\n",
       "      <td>NaN</td>\n",
       "      <td>NaN</td>\n",
       "      <td>NaN</td>\n",
       "      <td>False</td>\n",
       "      <td>NaN</td>\n",
       "      <td>NaN</td>\n",
       "      <td>CC-BY-NC</td>\n",
       "    </tr>\n",
       "    <tr>\n",
       "      <th>3</th>\n",
       "      <td>2003918</td>\n",
       "      <td>SK11</td>\n",
       "      <td>d9053364-bf2c-42e5-a13f-511191415b84</td>\n",
       "      <td>IMG_2201.JPG</td>\n",
       "      <td>gs://437283855702_2003918_344_rhodope_mountain...</td>\n",
       "      <td>0</td>\n",
       "      <td>Stefan Avramov</td>\n",
       "      <td>75e7ac24-a298-4a2f-bc12-9a153b08b7e6</td>\n",
       "      <td>Mammalia</td>\n",
       "      <td>Cetartiodactyla</td>\n",
       "      <td>...</td>\n",
       "      <td>adult</td>\n",
       "      <td>female</td>\n",
       "      <td>NaN</td>\n",
       "      <td>NaN</td>\n",
       "      <td>NaN</td>\n",
       "      <td>NaN</td>\n",
       "      <td>False</td>\n",
       "      <td>NaN</td>\n",
       "      <td>NaN</td>\n",
       "      <td>CC-BY-NC</td>\n",
       "    </tr>\n",
       "    <tr>\n",
       "      <th>4</th>\n",
       "      <td>2003918</td>\n",
       "      <td>SK11</td>\n",
       "      <td>89435349-84e7-4fdc-b0e5-80217d0079c1</td>\n",
       "      <td>IMG_2202.JPG</td>\n",
       "      <td>gs://437283855702_2003918_344_rhodope_mountain...</td>\n",
       "      <td>0</td>\n",
       "      <td>Stefan Avramov</td>\n",
       "      <td>75e7ac24-a298-4a2f-bc12-9a153b08b7e6</td>\n",
       "      <td>Mammalia</td>\n",
       "      <td>Cetartiodactyla</td>\n",
       "      <td>...</td>\n",
       "      <td>adult</td>\n",
       "      <td>female</td>\n",
       "      <td>NaN</td>\n",
       "      <td>NaN</td>\n",
       "      <td>NaN</td>\n",
       "      <td>NaN</td>\n",
       "      <td>False</td>\n",
       "      <td>NaN</td>\n",
       "      <td>NaN</td>\n",
       "      <td>CC-BY-NC</td>\n",
       "    </tr>\n",
       "  </tbody>\n",
       "</table>\n",
       "<p>5 rows × 27 columns</p>\n",
       "</div>"
      ],
      "text/plain": [
       "   project_id deployment_id                              image_id  \\\n",
       "0     2003918          SK11  32d71a06-aa95-45ef-b27b-903617e82016   \n",
       "1     2003918          SK11  c9cd9bc3-f932-45e7-8697-d1596c45ad4f   \n",
       "2     2003918          SK11  4568a440-2ec7-4887-849d-6220e59429b9   \n",
       "3     2003918          SK11  d9053364-bf2c-42e5-a13f-511191415b84   \n",
       "4     2003918          SK11  89435349-84e7-4fdc-b0e5-80217d0079c1   \n",
       "\n",
       "       filename                                           location  is_blank  \\\n",
       "0  IMG_2198.JPG  gs://437283855702_2003918_344_rhodope_mountain...         0   \n",
       "1  IMG_2199.JPG  gs://437283855702_2003918_344_rhodope_mountain...         0   \n",
       "2  IMG_2200.JPG  gs://437283855702_2003918_344_rhodope_mountain...         0   \n",
       "3  IMG_2201.JPG  gs://437283855702_2003918_344_rhodope_mountain...         0   \n",
       "4  IMG_2202.JPG  gs://437283855702_2003918_344_rhodope_mountain...         0   \n",
       "\n",
       "    identified_by                           wi_taxon_id     class  \\\n",
       "0  Stefan Avramov  75e7ac24-a298-4a2f-bc12-9a153b08b7e6  Mammalia   \n",
       "1  Stefan Avramov  75e7ac24-a298-4a2f-bc12-9a153b08b7e6  Mammalia   \n",
       "2  Stefan Avramov  75e7ac24-a298-4a2f-bc12-9a153b08b7e6  Mammalia   \n",
       "3  Stefan Avramov  75e7ac24-a298-4a2f-bc12-9a153b08b7e6  Mammalia   \n",
       "4  Stefan Avramov  75e7ac24-a298-4a2f-bc12-9a153b08b7e6  Mammalia   \n",
       "\n",
       "             order  ...    age     sex animal_recognizable individual_id  \\\n",
       "0  Cetartiodactyla  ...  adult  female                 NaN           NaN   \n",
       "1  Cetartiodactyla  ...  adult  female                 NaN           NaN   \n",
       "2  Cetartiodactyla  ...  adult  female                 NaN           NaN   \n",
       "3  Cetartiodactyla  ...  adult  female                 NaN           NaN   \n",
       "4  Cetartiodactyla  ...  adult  female                 NaN           NaN   \n",
       "\n",
       "   individual_animal_notes behavior  highlighted markings cv_confidence  \\\n",
       "0                      NaN      NaN        False      NaN           NaN   \n",
       "1                      NaN      NaN        False      NaN           NaN   \n",
       "2                      NaN      NaN        False      NaN           NaN   \n",
       "3                      NaN      NaN        False      NaN           NaN   \n",
       "4                      NaN      NaN        False      NaN           NaN   \n",
       "\n",
       "    license  \n",
       "0  CC-BY-NC  \n",
       "1  CC-BY-NC  \n",
       "2  CC-BY-NC  \n",
       "3  CC-BY-NC  \n",
       "4  CC-BY-NC  \n",
       "\n",
       "[5 rows x 27 columns]"
      ]
     },
     "execution_count": 10,
     "metadata": {},
     "output_type": "execute_result"
    }
   ],
   "source": [
    "images = pd.read_csv(filepath)\n",
    "print(images.shape)\n",
    "print(images.columns)\n",
    "images.head()"
   ]
  },
  {
   "cell_type": "code",
   "execution_count": 4,
   "metadata": {},
   "outputs": [
    {
     "data": {
      "text/plain": [
       "'gs://437283855702_2003918_344_rhodope_mountains__main/deployment/2114925/fc9df538-af1a-403d-9d8a-eb8930dc983b.JPG'"
      ]
     },
     "execution_count": 4,
     "metadata": {},
     "output_type": "execute_result"
    }
   ],
   "source": [
    "# images[\"location\"][0]"
   ]
  },
  {
   "cell_type": "code",
   "execution_count": 11,
   "metadata": {},
   "outputs": [],
   "source": [
    "images[\"new_location\"] = images[\"location\"].apply(lambda x: x.replace(\"gs://437283855702_2003918_344_rhodope_mountains__main/deployment/\", \"\").replace(\"/\", \"\\\\\"))"
   ]
  },
  {
   "cell_type": "code",
   "execution_count": 12,
   "metadata": {},
   "outputs": [
    {
     "data": {
      "text/plain": [
       "'2114925\\\\fc9df538-af1a-403d-9d8a-eb8930dc983b.JPG'"
      ]
     },
     "execution_count": 12,
     "metadata": {},
     "output_type": "execute_result"
    }
   ],
   "source": [
    "images[\"new_location\"][0]"
   ]
  },
  {
   "cell_type": "code",
   "execution_count": 13,
   "metadata": {},
   "outputs": [
    {
     "data": {
      "text/plain": [
       "0    2114925\n",
       "1    2114925\n",
       "2    2114925\n",
       "3    2114925\n",
       "4    2114925\n",
       "5    2114925\n",
       "6    2114925\n",
       "7    2114925\n",
       "8    2115325\n",
       "9    2115325\n",
       "Name: filepath, dtype: object"
      ]
     },
     "execution_count": 13,
     "metadata": {},
     "output_type": "execute_result"
    }
   ],
   "source": [
    "images[\"filepath\"] = images[\"new_location\"].apply(lambda x: x.split(\"\\\\\")[0])\n",
    "images[\"filepath\"][:10]"
   ]
  },
  {
   "cell_type": "code",
   "execution_count": 15,
   "metadata": {},
   "outputs": [
    {
     "data": {
      "text/plain": [
       "array(['2114925', '2115325', '2115004', '2114794', '2114926', '2115328',\n",
       "       '2115829', '2115860', '2135187', '2135188', '2134951', '2134971',\n",
       "       '2134972', '2134973', '2134974', '2134975', '2134976', '2134989',\n",
       "       '2134991', '2134992', '2134996', '2134997', '2135182', '2135185',\n",
       "       '2114923', '2114796', '2115007', '2115327', '2114924', '2115858',\n",
       "       '2115683', '2116554', '2115859', '2116553', '2115800', '2116555',\n",
       "       '2116556', '2116557', '2115917', '2115828', '2115915', '2116926',\n",
       "       '2115914', '2115827', '2115887', '2115359', '2115360', '2115799',\n",
       "       '2115826', '2134861', '2134943', '2134878', '2134941', '2134944',\n",
       "       '2134977', '2134990', '2135186', '2134987', '2135184', '2134945',\n",
       "       '2134988', '2134953', '2134954', '2134946', '2134947', '2134955',\n",
       "       '2134949', '2134950', '2135183'], dtype=object)"
      ]
     },
     "execution_count": 15,
     "metadata": {},
     "output_type": "execute_result"
    }
   ],
   "source": [
    "images[\"filepath\"].unique()"
   ]
  },
  {
   "cell_type": "code",
   "execution_count": 13,
   "metadata": {},
   "outputs": [
    {
     "data": {
      "text/plain": [
       "(4378, 29)"
      ]
     },
     "execution_count": 13,
     "metadata": {},
     "output_type": "execute_result"
    }
   ],
   "source": [
    "img_2114794 = images[images[\"filepath\"] == \"2114794\"]\n",
    "img_2114794.shape"
   ]
  },
  {
   "cell_type": "code",
   "execution_count": 15,
   "metadata": {},
   "outputs": [
    {
     "data": {
      "text/plain": [
       "Index(['project_id', 'deployment_id', 'image_id', 'filename', 'location',\n",
       "       'is_blank', 'identified_by', 'wi_taxon_id', 'class', 'order', 'family',\n",
       "       'genus', 'species', 'common_name', 'uncertainty', 'timestamp',\n",
       "       'number_of_objects', 'age', 'sex', 'animal_recognizable',\n",
       "       'individual_id', 'individual_animal_notes', 'behavior', 'highlighted',\n",
       "       'markings', 'cv_confidence', 'license', 'new_location', 'filepath'],\n",
       "      dtype='object')"
      ]
     },
     "execution_count": 15,
     "metadata": {},
     "output_type": "execute_result"
    }
   ],
   "source": [
    "img_2114794.columns"
   ]
  },
  {
   "cell_type": "code",
   "execution_count": 16,
   "metadata": {},
   "outputs": [
    {
     "data": {
      "text/plain": [
       "Common Fallow Deer     3741\n",
       "Blank                   409\n",
       "No CV Result             80\n",
       "Mammal                   40\n",
       "Red Fox                  19\n",
       "Red Deer                 17\n",
       "Small Mammal             15\n",
       "Rodent                    9\n",
       "Weasel Family             9\n",
       "European Hare             7\n",
       "Golden Jackal             6\n",
       "Beech Marten              6\n",
       "Cervidae Family           5\n",
       "Martes Species            5\n",
       "Corvidae Family           4\n",
       "Passeriformes Order       2\n",
       "Carnivorous Mammal        2\n",
       "Bird                      1\n",
       "Wild Boar                 1\n",
       "Name: common_name, dtype: int64"
      ]
     },
     "execution_count": 16,
     "metadata": {},
     "output_type": "execute_result"
    }
   ],
   "source": [
    "img_2114794.common_name.value_counts()"
   ]
  },
  {
   "cell_type": "code",
   "execution_count": 1,
   "metadata": {},
   "outputs": [],
   "source": [
    "import json"
   ]
  },
  {
   "cell_type": "code",
   "execution_count": 2,
   "metadata": {},
   "outputs": [
    {
     "data": {
      "text/plain": [
       "dict_keys(['images', 'detection_categories', 'info'])"
      ]
     },
     "execution_count": 2,
     "metadata": {},
     "output_type": "execute_result"
    }
   ],
   "source": [
    "with open(\"2114794.json\") as fp:\n",
    "    preds = json.load(fp)\n",
    "\n",
    "preds.keys()"
   ]
  },
  {
   "cell_type": "code",
   "execution_count": 7,
   "metadata": {},
   "outputs": [
    {
     "data": {
      "text/plain": [
       "{'file': '001be1fd-f033-4f81-b6ad-8fdeff2f4aba.JPG',\n",
       " 'detections': [{'category': '1',\n",
       "   'conf': 0.0095,\n",
       "   'bbox': [0.491, 0.3902, 0.03311, 0.03306]},\n",
       "  {'category': '1', 'conf': 0.927, 'bbox': [0.7049, 0.4001, 0.05952, 0.1448]}]}"
      ]
     },
     "execution_count": 7,
     "metadata": {},
     "output_type": "execute_result"
    }
   ],
   "source": [
    "preds[\"images\"][0]"
   ]
  },
  {
   "cell_type": "code",
   "execution_count": 8,
   "metadata": {},
   "outputs": [
    {
     "ename": "NameError",
     "evalue": "name 'images' is not defined",
     "output_type": "error",
     "traceback": [
      "\u001b[1;31m---------------------------------------------------------------------------\u001b[0m",
      "\u001b[1;31mNameError\u001b[0m                                 Traceback (most recent call last)",
      "Cell \u001b[1;32mIn[8], line 1\u001b[0m\n\u001b[1;32m----> 1\u001b[0m images[\u001b[39m\"\u001b[39m\u001b[39mfilepath\u001b[39m\u001b[39m\"\u001b[39m]\u001b[39m.\u001b[39munique\n",
      "\u001b[1;31mNameError\u001b[0m: name 'images' is not defined"
     ]
    }
   ],
   "source": [
    "images[\"filepath\"].unique"
   ]
  },
  {
   "cell_type": "code",
   "execution_count": null,
   "metadata": {},
   "outputs": [],
   "source": []
  }
 ],
 "metadata": {
  "kernelspec": {
   "display_name": "Python 3",
   "language": "python",
   "name": "python3"
  },
  "language_info": {
   "codemirror_mode": {
    "name": "ipython",
    "version": 3
   },
   "file_extension": ".py",
   "mimetype": "text/x-python",
   "name": "python",
   "nbconvert_exporter": "python",
   "pygments_lexer": "ipython3",
   "version": "3.10.11"
  },
  "orig_nbformat": 4
 },
 "nbformat": 4,
 "nbformat_minor": 2
}
