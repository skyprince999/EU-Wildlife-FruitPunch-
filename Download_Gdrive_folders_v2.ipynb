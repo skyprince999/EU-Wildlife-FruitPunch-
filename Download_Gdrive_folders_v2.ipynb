{
 "cells": [
  {
   "cell_type": "code",
   "execution_count": 1,
   "metadata": {},
   "outputs": [],
   "source": [
    "from pydrive.auth import GoogleAuth\n",
    "from pydrive.drive import GoogleDrive\n",
    "import tqdm\n",
    "import os\n",
    "\n",
    "gauth = GoogleAuth()\n",
    "drive = GoogleDrive(gauth)"
   ]
  },
  {
   "cell_type": "code",
   "execution_count": 2,
   "metadata": {},
   "outputs": [
    {
     "data": {
      "text/plain": [
       "45"
      ]
     },
     "execution_count": 2,
     "metadata": {},
     "output_type": "execute_result"
    }
   ],
   "source": [
    "dir_list = [fp for fp in os.listdir() if not (fp.endswith('json') or fp.endswith('csv') or fp.endswith('ipynb') or fp.endswith('yaml') or fp == 'git' or fp == 'photos_13')]\n",
    "# print(dir_list)\n",
    "len(dir_list)"
   ]
  },
  {
   "cell_type": "code",
   "execution_count": 3,
   "metadata": {},
   "outputs": [
    {
     "name": "stdout",
     "output_type": "stream",
     "text": [
      "Total folders: 69\n",
      "18Q6lnfEKBvTK7O4bXXt0nmDvZDIxPrRK 2135188\n"
     ]
    }
   ],
   "source": [
    "# folders = [\"9999999\", \"9999999\", \"9999999\", \"999999\", \"9999999\", \"9999999\", \"9999999\", \"9999999\", \"9999999\", \"9999999\"]\n",
    "\n",
    "folder = \"x-xxxxxxxxxxxxxxxxxxxxxxxxxxxxxxxxx\"\n",
    "# Download files\n",
    "folder_list = drive.ListFile({'q' : f\"'{folder}' in parents and trashed=false\"}).GetList()\n",
    "\n",
    "print(f\"Total folders: {len(folder_list)}\")\n",
    "print(folder_list[0]['id'], folder_list[0]['title'])"
   ]
  },
  {
   "cell_type": "code",
   "execution_count": 4,
   "metadata": {},
   "outputs": [
    {
     "name": "stderr",
     "output_type": "stream",
     "text": [
      "0it [00:00, ?it/s]"
     ]
    },
    {
     "name": "stdout",
     "output_type": "stream",
     "text": [
      "Skipping ..... 2135188\n",
      "Skipping ..... 2135187\n",
      "Skipping ..... 2135186\n",
      "Skipping ..... 2135185\n",
      "Skipping ..... 2135184\n",
      "Skipping ..... 2135183\n",
      "Skipping ..... 2135182\n",
      "Skipping ..... 2134997\n",
      "Skipping ..... 2134996\n",
      "Skipping ..... 2134992\n",
      "Skipping ..... 2134991\n",
      "Skipping ..... 2134990\n",
      "Skipping ..... 2134989\n",
      "Skipping ..... 2134988\n",
      "Skipping ..... 2134987\n",
      "Skipping ..... 2134977\n",
      "Skipping ..... 2134976\n",
      "Skipping ..... 2134975\n",
      "Skipping ..... 2134974\n",
      "Skipping ..... 2134973\n",
      "Skipping ..... 2134972\n",
      "Skipping ..... 2134971\n",
      "Skipping ..... 2134955\n",
      "Skipping ..... 2134954\n",
      "Skipping ..... 2134953\n",
      "Skipping ..... 2134951\n",
      "Skipping ..... 2134950\n",
      "Skipping ..... 2134949\n",
      "Skipping ..... 2134947\n",
      "Total files :7180, in folder: 2134946, Starting download....\n"
     ]
    },
    {
     "name": "stderr",
     "output_type": "stream",
     "text": [
      "7180it [3:10:02,  1.59s/it]\n",
      "30it [3:12:06, 384.21s/it]"
     ]
    },
    {
     "name": "stdout",
     "output_type": "stream",
     "text": [
      "Total files :4040, in folder: 2134945, Starting download....\n"
     ]
    },
    {
     "name": "stderr",
     "output_type": "stream",
     "text": [
      "4040it [1:48:19,  1.61s/it]\n",
      "31it [5:01:27, 664.97s/it]"
     ]
    },
    {
     "name": "stdout",
     "output_type": "stream",
     "text": [
      "Total files :9771, in folder: 2134944, Starting download....\n"
     ]
    },
    {
     "name": "stderr",
     "output_type": "stream",
     "text": [
      "9771it [4:22:16,  1.61s/it]\n",
      "32it [9:26:43, 1594.94s/it]"
     ]
    },
    {
     "name": "stdout",
     "output_type": "stream",
     "text": [
      "Total files :6764, in folder: 2134943, Starting download....\n"
     ]
    },
    {
     "name": "stderr",
     "output_type": "stream",
     "text": [
      "6764it [2:55:53,  1.56s/it]\n",
      "33it [12:24:21, 2321.12s/it]"
     ]
    },
    {
     "name": "stdout",
     "output_type": "stream",
     "text": [
      "Total files :2713, in folder: 2134941, Starting download....\n"
     ]
    },
    {
     "name": "stderr",
     "output_type": "stream",
     "text": [
      "2713it [1:11:14,  1.58s/it]\n",
      "34it [13:36:33, 2527.71s/it]"
     ]
    },
    {
     "name": "stdout",
     "output_type": "stream",
     "text": [
      "Total files :1608, in folder: 2134878, Starting download....\n"
     ]
    },
    {
     "name": "stderr",
     "output_type": "stream",
     "text": [
      "1608it [41:12,  1.54s/it]\n",
      "35it [14:18:11, 2523.92s/it]"
     ]
    },
    {
     "name": "stdout",
     "output_type": "stream",
     "text": [
      "Total files :18755, in folder: 2134861, Starting download....\n"
     ]
    },
    {
     "name": "stderr",
     "output_type": "stream",
     "text": [
      "15611it [7:12:26,  1.66s/it]\n",
      "35it [21:36:04, 2221.86s/it]\n"
     ]
    },
    {
     "ename": "OSError",
     "evalue": "[WinError 10055] An operation on a socket could not be performed because the system lacked sufficient buffer space or because a queue was full",
     "output_type": "error",
     "traceback": [
      "\u001b[1;31m---------------------------------------------------------------------------\u001b[0m",
      "\u001b[1;31mOSError\u001b[0m                                   Traceback (most recent call last)",
      "Cell \u001b[1;32mIn[4], line 14\u001b[0m\n\u001b[0;32m     11\u001b[0m     os\u001b[39m.\u001b[39mmakedirs(title)\n\u001b[0;32m     13\u001b[0m \u001b[39mfor\u001b[39;00m index, file \u001b[39min\u001b[39;00m tqdm\u001b[39m.\u001b[39mtqdm(\u001b[39menumerate\u001b[39m(file_list)):\n\u001b[1;32m---> 14\u001b[0m     file\u001b[39m.\u001b[39;49mGetContentFile(\u001b[39mf\u001b[39;49m\u001b[39m\"\u001b[39;49m\u001b[39m{\u001b[39;49;00mtitle\u001b[39m}\u001b[39;49;00m\u001b[39m/\u001b[39;49m\u001b[39m{\u001b[39;49;00mfile[\u001b[39m'\u001b[39;49m\u001b[39mtitle\u001b[39;49m\u001b[39m'\u001b[39;49m]\u001b[39m}\u001b[39;49;00m\u001b[39m\"\u001b[39;49m)\n",
      "File \u001b[1;32m~\\AppData\\Local\\Packages\\PythonSoftwareFoundation.Python.3.10_qbz5n2kfra8p0\\LocalCache\\local-packages\\Python310\\site-packages\\pydrive\\files.py:210\u001b[0m, in \u001b[0;36mGoogleDriveFile.GetContentFile\u001b[1;34m(self, filename, mimetype, remove_bom)\u001b[0m\n\u001b[0;32m    197\u001b[0m \u001b[39m\u001b[39m\u001b[39m\"\"\"Save content of this file as a local file.\u001b[39;00m\n\u001b[0;32m    198\u001b[0m \n\u001b[0;32m    199\u001b[0m \u001b[39m:param filename: name of the file to write to.\u001b[39;00m\n\u001b[1;32m   (...)\u001b[0m\n\u001b[0;32m    205\u001b[0m \u001b[39m:raises: ApiRequestError, FileNotUploadedError, FileNotDownloadableError\u001b[39;00m\n\u001b[0;32m    206\u001b[0m \u001b[39m\"\"\"\u001b[39;00m\n\u001b[0;32m    207\u001b[0m \u001b[39mif\u001b[39;00m \u001b[39mself\u001b[39m\u001b[39m.\u001b[39mcontent \u001b[39mis\u001b[39;00m \u001b[39mNone\u001b[39;00m \u001b[39mor\u001b[39;00m \\\n\u001b[0;32m    208\u001b[0m                 \u001b[39mtype\u001b[39m(\u001b[39mself\u001b[39m\u001b[39m.\u001b[39mcontent) \u001b[39mis\u001b[39;00m \u001b[39mnot\u001b[39;00m io\u001b[39m.\u001b[39mBytesIO \u001b[39mor\u001b[39;00m \\\n\u001b[0;32m    209\u001b[0m                 \u001b[39mself\u001b[39m\u001b[39m.\u001b[39mhas_bom \u001b[39m==\u001b[39m remove_bom:\n\u001b[1;32m--> 210\u001b[0m   \u001b[39mself\u001b[39;49m\u001b[39m.\u001b[39;49mFetchContent(mimetype, remove_bom)\n\u001b[0;32m    211\u001b[0m f \u001b[39m=\u001b[39m \u001b[39mopen\u001b[39m(filename, \u001b[39m'\u001b[39m\u001b[39mwb\u001b[39m\u001b[39m'\u001b[39m)\n\u001b[0;32m    212\u001b[0m f\u001b[39m.\u001b[39mwrite(\u001b[39mself\u001b[39m\u001b[39m.\u001b[39mcontent\u001b[39m.\u001b[39mgetvalue())\n",
      "File \u001b[1;32m~\\AppData\\Local\\Packages\\PythonSoftwareFoundation.Python.3.10_qbz5n2kfra8p0\\LocalCache\\local-packages\\Python310\\site-packages\\pydrive\\files.py:43\u001b[0m, in \u001b[0;36mLoadMetadata.<locals>._decorated\u001b[1;34m(self, *args, **kwargs)\u001b[0m\n\u001b[0;32m     41\u001b[0m \u001b[39mif\u001b[39;00m \u001b[39mnot\u001b[39;00m \u001b[39mself\u001b[39m\u001b[39m.\u001b[39muploaded:\n\u001b[0;32m     42\u001b[0m   \u001b[39mself\u001b[39m\u001b[39m.\u001b[39mFetchMetadata()\n\u001b[1;32m---> 43\u001b[0m \u001b[39mreturn\u001b[39;00m decoratee(\u001b[39mself\u001b[39m, \u001b[39m*\u001b[39margs, \u001b[39m*\u001b[39m\u001b[39m*\u001b[39mkwargs)\n",
      "File \u001b[1;32m~\\AppData\\Local\\Packages\\PythonSoftwareFoundation.Python.3.10_qbz5n2kfra8p0\\LocalCache\\local-packages\\Python310\\site-packages\\pydrive\\files.py:255\u001b[0m, in \u001b[0;36mGoogleDriveFile.FetchContent\u001b[1;34m(self, mimetype, remove_bom)\u001b[0m\n\u001b[0;32m    253\u001b[0m export_links \u001b[39m=\u001b[39m \u001b[39mself\u001b[39m\u001b[39m.\u001b[39mmetadata\u001b[39m.\u001b[39mget(\u001b[39m'\u001b[39m\u001b[39mexportLinks\u001b[39m\u001b[39m'\u001b[39m)\n\u001b[0;32m    254\u001b[0m \u001b[39mif\u001b[39;00m download_url:\n\u001b[1;32m--> 255\u001b[0m   \u001b[39mself\u001b[39m\u001b[39m.\u001b[39mcontent \u001b[39m=\u001b[39m io\u001b[39m.\u001b[39mBytesIO(\u001b[39mself\u001b[39;49m\u001b[39m.\u001b[39;49m_DownloadFromUrl(download_url))\n\u001b[0;32m    256\u001b[0m   \u001b[39mself\u001b[39m\u001b[39m.\u001b[39mdirty[\u001b[39m'\u001b[39m\u001b[39mcontent\u001b[39m\u001b[39m'\u001b[39m] \u001b[39m=\u001b[39m \u001b[39mFalse\u001b[39;00m\n\u001b[0;32m    258\u001b[0m \u001b[39melif\u001b[39;00m export_links \u001b[39mand\u001b[39;00m export_links\u001b[39m.\u001b[39mget(mimetype):\n",
      "File \u001b[1;32m~\\AppData\\Local\\Packages\\PythonSoftwareFoundation.Python.3.10_qbz5n2kfra8p0\\LocalCache\\local-packages\\Python310\\site-packages\\pydrive\\auth.py:75\u001b[0m, in \u001b[0;36mLoadAuth.<locals>._decorated\u001b[1;34m(self, *args, **kwargs)\u001b[0m\n\u001b[0;32m     72\u001b[0m \u001b[39melse\u001b[39;00m:  \u001b[39m# If HTTP object not specified, each call creates new HTTP object.\u001b[39;00m\n\u001b[0;32m     73\u001b[0m   \u001b[39mself\u001b[39m\u001b[39m.\u001b[39mhttp \u001b[39m=\u001b[39m \u001b[39mself\u001b[39m\u001b[39m.\u001b[39mauth\u001b[39m.\u001b[39mGet_Http_Object()\n\u001b[1;32m---> 75\u001b[0m \u001b[39mreturn\u001b[39;00m decoratee(\u001b[39mself\u001b[39m, \u001b[39m*\u001b[39margs, \u001b[39m*\u001b[39m\u001b[39m*\u001b[39mkwargs)\n",
      "File \u001b[1;32m~\\AppData\\Local\\Packages\\PythonSoftwareFoundation.Python.3.10_qbz5n2kfra8p0\\LocalCache\\local-packages\\Python310\\site-packages\\pydrive\\files.py:503\u001b[0m, in \u001b[0;36mGoogleDriveFile._DownloadFromUrl\u001b[1;34m(self, url)\u001b[0m\n\u001b[0;32m    494\u001b[0m \u001b[39m@LoadAuth\u001b[39m\n\u001b[0;32m    495\u001b[0m \u001b[39mdef\u001b[39;00m \u001b[39m_DownloadFromUrl\u001b[39m(\u001b[39mself\u001b[39m, url):\n\u001b[0;32m    496\u001b[0m \u001b[39m  \u001b[39m\u001b[39m\"\"\"Download file from url using provided credential.\u001b[39;00m\n\u001b[0;32m    497\u001b[0m \n\u001b[0;32m    498\u001b[0m \u001b[39m  :param url: link of the file to download.\u001b[39;00m\n\u001b[1;32m   (...)\u001b[0m\n\u001b[0;32m    501\u001b[0m \u001b[39m  :raises: ApiRequestError\u001b[39;00m\n\u001b[0;32m    502\u001b[0m \u001b[39m  \"\"\"\u001b[39;00m\n\u001b[1;32m--> 503\u001b[0m   resp, content \u001b[39m=\u001b[39m \u001b[39mself\u001b[39;49m\u001b[39m.\u001b[39;49mhttp\u001b[39m.\u001b[39;49mrequest(url)\n\u001b[0;32m    504\u001b[0m   \u001b[39mif\u001b[39;00m resp\u001b[39m.\u001b[39mstatus \u001b[39m!=\u001b[39m \u001b[39m200\u001b[39m:\n\u001b[0;32m    505\u001b[0m     \u001b[39mraise\u001b[39;00m ApiRequestError(\u001b[39m'\u001b[39m\u001b[39mCannot download file: \u001b[39m\u001b[39m%s\u001b[39;00m\u001b[39m'\u001b[39m \u001b[39m%\u001b[39m resp)\n",
      "File \u001b[1;32m~\\AppData\\Local\\Packages\\PythonSoftwareFoundation.Python.3.10_qbz5n2kfra8p0\\LocalCache\\local-packages\\Python310\\site-packages\\oauth2client\\transport.py:173\u001b[0m, in \u001b[0;36mwrap_http_for_auth.<locals>.new_request\u001b[1;34m(uri, method, body, headers, redirections, connection_type)\u001b[0m\n\u001b[0;32m    169\u001b[0m \u001b[39mif\u001b[39;00m \u001b[39mall\u001b[39m(\u001b[39mgetattr\u001b[39m(body, stream_prop, \u001b[39mNone\u001b[39;00m) \u001b[39mfor\u001b[39;00m stream_prop \u001b[39min\u001b[39;00m\n\u001b[0;32m    170\u001b[0m        _STREAM_PROPERTIES):\n\u001b[0;32m    171\u001b[0m     body_stream_position \u001b[39m=\u001b[39m body\u001b[39m.\u001b[39mtell()\n\u001b[1;32m--> 173\u001b[0m resp, content \u001b[39m=\u001b[39m request(orig_request_method, uri, method, body,\n\u001b[0;32m    174\u001b[0m                         clean_headers(headers),\n\u001b[0;32m    175\u001b[0m                         redirections, connection_type)\n\u001b[0;32m    177\u001b[0m \u001b[39m# A stored token may expire between the time it is retrieved and\u001b[39;00m\n\u001b[0;32m    178\u001b[0m \u001b[39m# the time the request is made, so we may need to try twice.\u001b[39;00m\n\u001b[0;32m    179\u001b[0m max_refresh_attempts \u001b[39m=\u001b[39m \u001b[39m2\u001b[39m\n",
      "File \u001b[1;32m~\\AppData\\Local\\Packages\\PythonSoftwareFoundation.Python.3.10_qbz5n2kfra8p0\\LocalCache\\local-packages\\Python310\\site-packages\\oauth2client\\transport.py:280\u001b[0m, in \u001b[0;36mrequest\u001b[1;34m(http, uri, method, body, headers, redirections, connection_type)\u001b[0m\n\u001b[0;32m    278\u001b[0m \u001b[39m# NOTE: Allowing http or http.request is temporary (See Issue 601).\u001b[39;00m\n\u001b[0;32m    279\u001b[0m http_callable \u001b[39m=\u001b[39m \u001b[39mgetattr\u001b[39m(http, \u001b[39m'\u001b[39m\u001b[39mrequest\u001b[39m\u001b[39m'\u001b[39m, http)\n\u001b[1;32m--> 280\u001b[0m \u001b[39mreturn\u001b[39;00m http_callable(uri, method\u001b[39m=\u001b[39;49mmethod, body\u001b[39m=\u001b[39;49mbody, headers\u001b[39m=\u001b[39;49mheaders,\n\u001b[0;32m    281\u001b[0m                      redirections\u001b[39m=\u001b[39;49mredirections,\n\u001b[0;32m    282\u001b[0m                      connection_type\u001b[39m=\u001b[39;49mconnection_type)\n",
      "File \u001b[1;32m~\\AppData\\Local\\Packages\\PythonSoftwareFoundation.Python.3.10_qbz5n2kfra8p0\\LocalCache\\local-packages\\Python310\\site-packages\\httplib2\\__init__.py:1724\u001b[0m, in \u001b[0;36mHttp.request\u001b[1;34m(self, uri, method, body, headers, redirections, connection_type)\u001b[0m\n\u001b[0;32m   1722\u001b[0m             content \u001b[39m=\u001b[39m \u001b[39mb\u001b[39m\u001b[39m\"\u001b[39m\u001b[39m\"\u001b[39m\n\u001b[0;32m   1723\u001b[0m         \u001b[39melse\u001b[39;00m:\n\u001b[1;32m-> 1724\u001b[0m             (response, content) \u001b[39m=\u001b[39m \u001b[39mself\u001b[39;49m\u001b[39m.\u001b[39;49m_request(\n\u001b[0;32m   1725\u001b[0m                 conn, authority, uri, request_uri, method, body, headers, redirections, cachekey,\n\u001b[0;32m   1726\u001b[0m             )\n\u001b[0;32m   1727\u001b[0m \u001b[39mexcept\u001b[39;00m \u001b[39mException\u001b[39;00m \u001b[39mas\u001b[39;00m e:\n\u001b[0;32m   1728\u001b[0m     is_timeout \u001b[39m=\u001b[39m \u001b[39misinstance\u001b[39m(e, socket\u001b[39m.\u001b[39mtimeout)\n",
      "File \u001b[1;32m~\\AppData\\Local\\Packages\\PythonSoftwareFoundation.Python.3.10_qbz5n2kfra8p0\\LocalCache\\local-packages\\Python310\\site-packages\\httplib2\\__init__.py:1444\u001b[0m, in \u001b[0;36mHttp._request\u001b[1;34m(self, conn, host, absolute_uri, request_uri, method, body, headers, redirections, cachekey)\u001b[0m\n\u001b[0;32m   1441\u001b[0m \u001b[39mif\u001b[39;00m auth:\n\u001b[0;32m   1442\u001b[0m     auth\u001b[39m.\u001b[39mrequest(method, request_uri, headers, body)\n\u001b[1;32m-> 1444\u001b[0m (response, content) \u001b[39m=\u001b[39m \u001b[39mself\u001b[39;49m\u001b[39m.\u001b[39;49m_conn_request(conn, request_uri, method, body, headers)\n\u001b[0;32m   1446\u001b[0m \u001b[39mif\u001b[39;00m auth:\n\u001b[0;32m   1447\u001b[0m     \u001b[39mif\u001b[39;00m auth\u001b[39m.\u001b[39mresponse(response, body):\n",
      "File \u001b[1;32m~\\AppData\\Local\\Packages\\PythonSoftwareFoundation.Python.3.10_qbz5n2kfra8p0\\LocalCache\\local-packages\\Python310\\site-packages\\httplib2\\__init__.py:1366\u001b[0m, in \u001b[0;36mHttp._conn_request\u001b[1;34m(self, conn, request_uri, method, body, headers)\u001b[0m\n\u001b[0;32m   1364\u001b[0m \u001b[39mtry\u001b[39;00m:\n\u001b[0;32m   1365\u001b[0m     \u001b[39mif\u001b[39;00m conn\u001b[39m.\u001b[39msock \u001b[39mis\u001b[39;00m \u001b[39mNone\u001b[39;00m:\n\u001b[1;32m-> 1366\u001b[0m         conn\u001b[39m.\u001b[39;49mconnect()\n\u001b[0;32m   1367\u001b[0m     conn\u001b[39m.\u001b[39mrequest(method, request_uri, body, headers)\n\u001b[0;32m   1368\u001b[0m \u001b[39mexcept\u001b[39;00m socket\u001b[39m.\u001b[39mtimeout:\n",
      "File \u001b[1;32m~\\AppData\\Local\\Packages\\PythonSoftwareFoundation.Python.3.10_qbz5n2kfra8p0\\LocalCache\\local-packages\\Python310\\site-packages\\httplib2\\__init__.py:1202\u001b[0m, in \u001b[0;36mHTTPSConnectionWithTimeout.connect\u001b[1;34m(self)\u001b[0m\n\u001b[0;32m   1200\u001b[0m     \u001b[39mbreak\u001b[39;00m\n\u001b[0;32m   1201\u001b[0m \u001b[39mif\u001b[39;00m \u001b[39mnot\u001b[39;00m \u001b[39mself\u001b[39m\u001b[39m.\u001b[39msock:\n\u001b[1;32m-> 1202\u001b[0m     \u001b[39mraise\u001b[39;00m socket_err\n",
      "File \u001b[1;32m~\\AppData\\Local\\Packages\\PythonSoftwareFoundation.Python.3.10_qbz5n2kfra8p0\\LocalCache\\local-packages\\Python310\\site-packages\\httplib2\\__init__.py:1156\u001b[0m, in \u001b[0;36mHTTPSConnectionWithTimeout.connect\u001b[1;34m(self)\u001b[0m\n\u001b[0;32m   1154\u001b[0m \u001b[39mif\u001b[39;00m has_timeout(\u001b[39mself\u001b[39m\u001b[39m.\u001b[39mtimeout):\n\u001b[0;32m   1155\u001b[0m     sock\u001b[39m.\u001b[39msettimeout(\u001b[39mself\u001b[39m\u001b[39m.\u001b[39mtimeout)\n\u001b[1;32m-> 1156\u001b[0m sock\u001b[39m.\u001b[39;49mconnect((\u001b[39mself\u001b[39;49m\u001b[39m.\u001b[39;49mhost, \u001b[39mself\u001b[39;49m\u001b[39m.\u001b[39;49mport))\n\u001b[0;32m   1158\u001b[0m \u001b[39mself\u001b[39m\u001b[39m.\u001b[39msock \u001b[39m=\u001b[39m \u001b[39mself\u001b[39m\u001b[39m.\u001b[39m_context\u001b[39m.\u001b[39mwrap_socket(sock, server_hostname\u001b[39m=\u001b[39m\u001b[39mself\u001b[39m\u001b[39m.\u001b[39mhost)\n\u001b[0;32m   1160\u001b[0m \u001b[39m# Python 3.3 compatibility: emulate the check_hostname behavior\u001b[39;00m\n",
      "\u001b[1;31mOSError\u001b[0m: [WinError 10055] An operation on a socket could not be performed because the system lacked sufficient buffer space or because a queue was full"
     ]
    }
   ],
   "source": [
    "for idx, folder in tqdm.tqdm(enumerate(folder_list)):\n",
    "    title = folder[\"title\"]\n",
    "    id = folder[\"id\"]\n",
    "    if title in dir_list:\n",
    "        print(f\"Skipping ..... {title}\")\n",
    "        continue\n",
    "    file_list = drive.ListFile({'q' : f\"'{id}' in parents and trashed=false\"}).GetList()\n",
    "    print(f\"Total files :{len(file_list)}, in folder: {title}, Starting download....\")\n",
    "\n",
    "    if not os.path.exists(title):\n",
    "        os.makedirs(title)\n",
    "\n",
    "    for index, file in tqdm.tqdm(enumerate(file_list)):\n",
    "        file.GetContentFile(f\"{title}/{file['title']}\")"
   ]
  },
  {
   "cell_type": "code",
   "execution_count": null,
   "metadata": {},
   "outputs": [],
   "source": []
  }
 ],
 "metadata": {
  "kernelspec": {
   "display_name": "Python 3",
   "language": "python",
   "name": "python3"
  },
  "language_info": {
   "codemirror_mode": {
    "name": "ipython",
    "version": 3
   },
   "file_extension": ".py",
   "mimetype": "text/x-python",
   "name": "python",
   "nbconvert_exporter": "python",
   "pygments_lexer": "ipython3",
   "version": "3.10.11"
  },
  "orig_nbformat": 4
 },
 "nbformat": 4,
 "nbformat_minor": 2
}
