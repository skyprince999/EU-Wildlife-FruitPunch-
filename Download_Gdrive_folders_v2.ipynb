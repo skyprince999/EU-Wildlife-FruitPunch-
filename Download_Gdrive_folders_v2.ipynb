{
 "cells": [
  {
   "cell_type": "code",
   "execution_count": null,
   "metadata": {},
   "outputs": [],
   "source": [
    "from pydrive.auth import GoogleAuth\n",
    "from pydrive.drive import GoogleDrive\n",
    "import tqdm\n",
    "import os\n",
    "\n",
    "gauth = GoogleAuth()\n",
    "drive = GoogleDrive(gauth)"
   ]
  },
  {
   "cell_type": "code",
   "execution_count": null,
   "metadata": {},
   "outputs": [],
   "source": [
    "dir_list = [fp for fp in os.listdir() if not (fp.endswith('json') or fp.endswith('csv') or fp.endswith('ipynb') or fp.endswith('yaml') or fp == 'git' or fp == 'photos_13')]\n",
    "# print(dir_list)\n",
    "len(dir_list)"
   ]
  },
  {
   "cell_type": "code",
   "execution_count": null,
   "metadata": {},
   "outputs": [],
   "source": [
    "# folders = [\"9999999\", \"9999999\", \"9999999\", \"999999\", \"9999999\", \"9999999\", \"9999999\", \"9999999\", \"9999999\", \"9999999\"]\n",
    "\n",
    "folder = \"x-xxxxxxxxxxxxxxxxxxxxxxxxxxxxxxxxx\"\n",
    "# Download files\n",
    "folder_list = drive.ListFile({'q' : f\"'{folder}' in parents and trashed=false\"}).GetList()\n",
    "\n",
    "print(f\"Total folders: {len(folder_list)}\")\n",
    "print(folder_list[0]['id'], folder_list[0]['title'])"
   ]
  },
  {
   "cell_type": "code",
   "execution_count": null,
   "metadata": {},
   "outputs": [],
   "source": [
    "for idx, folder in tqdm.tqdm(enumerate(folder_list)):\n",
    "    title = folder[\"title\"]\n",
    "    id = folder[\"id\"]\n",
    "    if title in dir_list:\n",
    "        print(f\"Skipping ..... {title}\")\n",
    "        continue\n",
    "    file_list = drive.ListFile({'q' : f\"'{id}' in parents and trashed=false\"}).GetList()\n",
    "    print(f\"Total files :{len(file_list)}, in folder: {title}, Starting download....\")\n",
    "\n",
    "    if not os.path.exists(title):\n",
    "        os.makedirs(title)\n",
    "\n",
    "    for index, file in tqdm.tqdm(enumerate(file_list)):\n",
    "        file.GetContentFile(f\"{title}/{file['title']}\")"
   ]
  },
  {
   "cell_type": "code",
   "execution_count": null,
   "metadata": {},
   "outputs": [],
   "source": []
  }
 ],
 "metadata": {
  "kernelspec": {
   "display_name": "Python 3",
   "language": "python",
   "name": "python3"
  },
  "language_info": {
   "codemirror_mode": {
    "name": "ipython",
    "version": 3
   },
   "file_extension": ".py",
   "mimetype": "text/x-python",
   "name": "python",
   "nbconvert_exporter": "python",
   "pygments_lexer": "ipython3",
   "version": "3.10.11"
  },
  "orig_nbformat": 4
 },
 "nbformat": 4,
 "nbformat_minor": 2
}
